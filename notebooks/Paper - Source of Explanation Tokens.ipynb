{
 "cells": [
  {
   "cell_type": "code",
   "execution_count": 1,
   "metadata": {},
   "outputs": [],
   "source": [
    "import sys\n",
    "import re\n",
    "import json\n",
    "import gzip\n",
    "import numpy as np\n",
    "import scipy.stats as ss\n",
    "from nltk.corpus import stopwords\n",
    "from nltk.stem.porter import PorterStemmer\n",
    "sys.path.append(\"../extra_scripts\")\n",
    "import plot_functions as pf"
   ]
  },
  {
   "cell_type": "code",
   "execution_count": 2,
   "metadata": {
    "scrolled": true
   },
   "outputs": [
    {
     "name": "stdout",
     "output_type": "stream",
     "text": [
      "1000\n",
      "2000\n",
      "3000\n",
      "4000\n",
      "5000\n",
      "6000\n",
      "7000\n",
      "8000\n",
      "9000\n",
      "10000\n",
      "11000\n",
      "12000\n",
      "13000\n",
      "14000\n",
      "15000\n",
      "16000\n",
      "17000\n",
      "18000\n",
      "19000\n",
      "20000\n",
      "21000\n",
      "22000\n",
      "23000\n",
      "24000\n",
      "25000\n",
      "26000\n"
     ]
    }
   ],
   "source": [
    "TRAIN_DATA_PATH =  \"../data/cmv_triples_train_token.jsonlist.gz\"\n",
    "\n",
    "data = []\n",
    "with gzip.open(TRAIN_DATA_PATH, 'r') as ifile:\n",
    "    for curr in ifile.readlines():\n",
    "        data.append(json.loads(curr))\n",
    "        if len(data)%1000 == 0:\n",
    "            print(len(data))"
   ]
  },
  {
   "cell_type": "code",
   "execution_count": 3,
   "metadata": {},
   "outputs": [],
   "source": [
    "def get_copy_prob_exp(text, out_quote=False, stopwords=None):\n",
    "    explanation = get_words(text[\"explanation\"], out_quote=out_quote, stopwords=stopwords)\n",
    "    op = get_words(text[\"op_selftext\"], out_quote=out_quote, stopwords=stopwords)\n",
    "    pc = get_words(text[\"deltaed_comment\"], out_quote=out_quote, stopwords=stopwords)\n",
    "    oppc = op | pc\n",
    "    if len(explanation) == 0:\n",
    "        print(\" \".join([v[1] for v in text[\"explanation\"]]))\n",
    "        return 0\n",
    "    return len(explanation & oppc) / float(len(explanation))"
   ]
  },
  {
   "cell_type": "code",
   "execution_count": 4,
   "metadata": {},
   "outputs": [],
   "source": [
    "def get_copy_prob_pc(text, out_quote=False, stopwords=None):\n",
    "    op = get_words(text[\"op_selftext\"], out_quote=out_quote, stopwords=stopwords)\n",
    "    pc = get_words(text[\"deltaed_comment\"], out_quote=out_quote, stopwords=stopwords)\n",
    "    if len(pc) == 0:\n",
    "        print(\" \".join([v[1] for v in text[\"deltaed_comment\"]]))\n",
    "        return 0\n",
    "    return len(pc & op) / float(len(pc))"
   ]
  },
  {
   "cell_type": "code",
   "execution_count": 5,
   "metadata": {},
   "outputs": [],
   "source": [
    "def is_quote(w):\n",
    "    return w == '“' or w == '”'\n",
    "\n",
    "def get_words(token_patterns, out_quote=False, stopwords=None):\n",
    "    words = [v[1].lower() for v in token_patterns]\n",
    "    if out_quote:\n",
    "        in_quote = False\n",
    "        clean_words = []\n",
    "        for w in words:\n",
    "            if is_quote(w):\n",
    "                in_quote = not in_quote\n",
    "            if not in_quote and re.match(\"\\w+\", w):\n",
    "                clean_words.append(w)\n",
    "        words = clean_words\n",
    "    else:\n",
    "        words = [w for w in words if re.match(\"\\w+\", w)]\n",
    "    if stopwords:\n",
    "        return set(words) - stopwords\n",
    "    return set(words)"
   ]
  },
  {
   "cell_type": "code",
   "execution_count": 6,
   "metadata": {},
   "outputs": [],
   "source": [
    "STEMMER = PorterStemmer()\n",
    "STOPWORDS = set([STEMMER.stem(w) for w in stopwords.words('english')])"
   ]
  },
  {
   "cell_type": "code",
   "execution_count": 7,
   "metadata": {
    "scrolled": true
   },
   "outputs": [
    {
     "name": "stdout",
     "output_type": "stream",
     "text": [
      "@url@\n",
      "@url@\n",
      "@url@\n",
      "@url@\n",
      "@url@\n",
      "@url@\n",
      "again .\n",
      "@url@\n",
      "@url@\n",
      "@url@\n"
     ]
    }
   ],
   "source": [
    "exp_copy = [get_copy_prob_exp(d) for d in data]\n",
    "exp_copy_out_quote = [get_copy_prob_exp(d, out_quote=True) for d in data]\n",
    "exp_copy_nonstop = [get_copy_prob_exp(d, stopwords=STOPWORDS) for d in data]"
   ]
  },
  {
   "cell_type": "code",
   "execution_count": 8,
   "metadata": {
    "scrolled": true
   },
   "outputs": [
    {
     "name": "stdout",
     "output_type": "stream",
     "text": [
      "@url@\n",
      "@url@\n",
      "@url@\n",
      "@url@ @url@ @url@ @url@ @url@ @url@ @url@ @url@ @url@ @url@ @url@ @url@ @url@ @url@ @url@ @url@ ) -wallpaper-002.jpg @url@ @url@ @url@ @url@ @url@\n",
      "@url@\n",
      "*\n",
      "@url@\n",
      "@url@\n",
      "@url@\n",
      "@url@\n",
      "@url@\n",
      "@url@\n",
      "@url@\n",
      "@url@ @url@ @url@ @url@ @url@\n",
      "@url@\n",
      "@url@ @url@\n",
      "@url@\n",
      "@url@\n",
      "@url@\n",
      "@url@\n",
      "@url@\n",
      "@url@\n",
      "@url@\n",
      "@url@ @url@ @url@ @url@ @url@ @url@ @url@ @url@ @url@ @url@ @url@ @url@ @url@ @url@ @url@ @url@ ) -wallpaper-002.jpg @url@ @url@ @url@ @url@ @url@\n",
      "@url@\n",
      "*\n",
      "@url@\n",
      "@url@\n",
      "@url@\n",
      "@url@\n",
      "@url@\n",
      "@url@\n",
      "@url@\n",
      "\" : “ argument to moder ( latin : argumentum ad temperantiam)—also known as [ argument from ] middl ground , fals compromis , gray fallaci , and the golden mean fallaci — is an inform fallaci which assert that the truth must be found as a compromis between two opposit posit . \" first off a fallaci doe n't instantli mean it wrong , it mean there is a weak point in the logic that must be examin close to determin if it wrong . second a philosoph fallaci doe n't quit appli in polit realiti . \" some thing are object correct , and take the posit of compromis between the correct and incorrect is , by definit , insan : there ’s a veri common argument , from moder , that we should tri to find the middleground , and we should negoti and compromis to get what we want . \" i agre that there are object realiti . but that doe n't mean there are alway polit polici that can correctli be achiev without compromis . if you disagre then it becom a question of how much blood you are will to spend to achiev it . \" obvious not , therefor a centrist would have to be inconsist , and either be centr - left , or centr - right on certain issu , thu they ’re no longer , truli , a centrist \" who say you need to be consist ? we are human not stone . \") they hold back ani real progress be made , by their insist on total moder on issu . \" well progress itself is a myth . we simpli chang . but then again accus of total moder ignor the idea put forward . \" thi is danger : a centrist would demand a compromis between , an invad forc , and the local , but would ignor that the invad forc is object more damag and more at fault , thu should be oppos ( i do n’t want to get into controversi conflict ) \" that s a huge strawman . honestli i could be consid a centrist in some sens ( though i do lean to the left ) , but i 'm about as hawkish as they get . each person 's idea need to be analyz individu . \" thi one is less formal , it is that , so often , they ’re just annoy : when peopl are protest on issu , and tri to actual deal with problem outsid of elector polit , centrist and moder will sit around talk about reason , without method , or criticis the method of protest and activist , without consid their context . \" in the same sens it annoy to see protest who protest without a plan or method to get where they want other than yell and scream . \" whilst purport to be the ration , and the iconoclast peopl they view themselv as , they ignor that ration and iconoclasm doe n’t involv mere sit around and belli - ach . \" yeah that can often be said of just about everyon . \" sometim radic action is requir , someth moder rare suppli \" sometim but more often than not it is more harm than help .\n",
      "@url@ @url@ @url@ @url@ @url@\n",
      "@url@\n",
      "@url@ @url@\n",
      "@url@\n",
      "@url@\n",
      "@url@\n",
      "@url@\n",
      "@url@\n",
      "@url@\n",
      "@url@\n",
      "@url@ @url@ @url@ @url@ @url@ @url@ @url@ @url@ @url@ @url@ @url@ @url@ @url@ @url@ @url@ @url@ ) -wallpaper-002.jpg @url@ @url@ @url@ @url@ @url@\n",
      "@url@\n",
      "*\n",
      "@url@\n",
      "@url@\n",
      "@url@\n",
      "@url@\n",
      "@url@\n",
      "whi not do both ?\n",
      "@url@\n",
      "@url@\n",
      "@url@ @url@ @url@ @url@ @url@\n",
      "@url@\n",
      "@url@ @url@\n",
      "@url@\n",
      "@url@\n",
      "@url@\n",
      "@url@\n"
     ]
    }
   ],
   "source": [
    "pc_copy = [get_copy_prob_pc(d) for d in data]\n",
    "pc_copy_out_quote = [get_copy_prob_pc(d, out_quote=True) for d in data]\n",
    "pc_copy_nonstop = [get_copy_prob_pc(d, stopwords=STOPWORDS) for d in data]"
   ]
  },
  {
   "cell_type": "code",
   "execution_count": 9,
   "metadata": {},
   "outputs": [],
   "source": [
    "value_list = [\n",
    "    [np.mean(v) for v in [exp_copy, exp_copy_out_quote, exp_copy_nonstop]],\n",
    "    [np.mean(v) for v in [pc_copy, pc_copy_out_quote, pc_copy_nonstop]]\n",
    "]\n",
    "error_list = [\n",
    "    [ss.sem(v) for v in [exp_copy, exp_copy_out_quote, exp_copy_nonstop]],\n",
    "    [ss.sem(v) for v in [pc_copy, pc_copy_out_quote, pc_copy_nonstop]]\n",
    "]"
   ]
  },
  {
   "cell_type": "code",
   "execution_count": 10,
   "metadata": {},
   "outputs": [
    {
     "data": {
      "text/plain": [
       "([[0.5986184264166228, 0.597964488224717, 0.4168131894298118],\n",
       "  [0.390290064067971, 0.3896610647105924, 0.23635151122676173]],\n",
       " [[0.0008354842685873842, 0.0008358271695216615, 0.0011177133043596206],\n",
       "  [0.0008388860597069524, 0.0008373209897852627, 0.0008141690224262979]])"
      ]
     },
     "execution_count": 10,
     "metadata": {},
     "output_type": "execute_result"
    }
   ],
   "source": [
    "value_list, error_list"
   ]
  },
  {
   "cell_type": "code",
   "execution_count": 11,
   "metadata": {
    "scrolled": false
   },
   "outputs": [
    {
     "name": "stderr",
     "output_type": "stream",
     "text": [
      "/data/anaconda3/envs/cmv-gen/lib/python3.7/site-packages/matplotlib/font_manager.py:1328: UserWarning: findfont: Font family ['sans-serif'] not found. Falling back to DejaVu Sans\n",
      "  (prop.get_family(), self.defaultFamily[fontext]))\n",
      "/data/anaconda3/envs/cmv-gen/lib/python3.7/site-packages/matplotlib/font_manager.py:1328: UserWarning: findfont: Font family ['sans-serif'] not found. Falling back to DejaVu Sans\n",
      "  (prop.get_family(), self.defaultFamily[fontext]))\n",
      "/data/anaconda3/envs/cmv-gen/lib/python3.7/site-packages/matplotlib/font_manager.py:1328: UserWarning: findfont: Font family ['sans-serif'] not found. Falling back to DejaVu Sans\n",
      "  (prop.get_family(), self.defaultFamily[fontext]))\n",
      "/data/anaconda3/envs/cmv-gen/lib/python3.7/site-packages/matplotlib/font_manager.py:1328: UserWarning: findfont: Font family ['sans-serif'] not found. Falling back to DejaVu Sans\n",
      "  (prop.get_family(), self.defaultFamily[fontext]))\n",
      "/data/anaconda3/envs/cmv-gen/lib/python3.7/site-packages/matplotlib/font_manager.py:1328: UserWarning: findfont: Font family ['sans-serif'] not found. Falling back to DejaVu Sans\n",
      "  (prop.get_family(), self.defaultFamily[fontext]))\n",
      "/data/anaconda3/envs/cmv-gen/lib/python3.7/site-packages/matplotlib/font_manager.py:1328: UserWarning: findfont: Font family ['sans-serif'] not found. Falling back to DejaVu Sans\n",
      "  (prop.get_family(), self.defaultFamily[fontext]))\n",
      "/data/anaconda3/envs/cmv-gen/lib/python3.7/site-packages/matplotlib/font_manager.py:1328: UserWarning: findfont: Font family ['sans-serif'] not found. Falling back to DejaVu Sans\n",
      "  (prop.get_family(), self.defaultFamily[fontext]))\n",
      "/data/anaconda3/envs/cmv-gen/lib/python3.7/site-packages/matplotlib/font_manager.py:1328: UserWarning: findfont: Font family ['sans-serif'] not found. Falling back to DejaVu Sans\n",
      "  (prop.get_family(), self.defaultFamily[fontext]))\n",
      "/data/anaconda3/envs/cmv-gen/lib/python3.7/site-packages/matplotlib/font_manager.py:1328: UserWarning: findfont: Font family ['sans-serif'] not found. Falling back to DejaVu Sans\n",
      "  (prop.get_family(), self.defaultFamily[fontext]))\n",
      "/data/anaconda3/envs/cmv-gen/lib/python3.7/site-packages/matplotlib/font_manager.py:1328: UserWarning: findfont: Font family ['sans-serif'] not found. Falling back to DejaVu Sans\n",
      "  (prop.get_family(), self.defaultFamily[fontext]))\n",
      "/data/anaconda3/envs/cmv-gen/lib/python3.7/site-packages/matplotlib/font_manager.py:1328: UserWarning: findfont: Font family ['sans-serif'] not found. Falling back to DejaVu Sans\n",
      "  (prop.get_family(), self.defaultFamily[fontext]))\n",
      "/data/anaconda3/envs/cmv-gen/lib/python3.7/site-packages/matplotlib/font_manager.py:1328: UserWarning: findfont: Font family ['sans-serif'] not found. Falling back to DejaVu Sans\n",
      "  (prop.get_family(), self.defaultFamily[fontext]))\n",
      "/data/anaconda3/envs/cmv-gen/lib/python3.7/site-packages/matplotlib/font_manager.py:1328: UserWarning: findfont: Font family ['sans-serif'] not found. Falling back to DejaVu Sans\n",
      "  (prop.get_family(), self.defaultFamily[fontext]))\n",
      "/data/anaconda3/envs/cmv-gen/lib/python3.7/site-packages/matplotlib/font_manager.py:1328: UserWarning: findfont: Font family ['sans-serif'] not found. Falling back to DejaVu Sans\n",
      "  (prop.get_family(), self.defaultFamily[fontext]))\n",
      "/data/anaconda3/envs/cmv-gen/lib/python3.7/site-packages/matplotlib/font_manager.py:1328: UserWarning: findfont: Font family ['sans-serif'] not found. Falling back to DejaVu Sans\n",
      "  (prop.get_family(), self.defaultFamily[fontext]))\n",
      "/data/anaconda3/envs/cmv-gen/lib/python3.7/site-packages/matplotlib/font_manager.py:1328: UserWarning: findfont: Font family ['sans-serif'] not found. Falling back to DejaVu Sans\n",
      "  (prop.get_family(), self.defaultFamily[fontext]))\n",
      "/data/anaconda3/envs/cmv-gen/lib/python3.7/site-packages/matplotlib/font_manager.py:1328: UserWarning: findfont: Font family ['sans-serif'] not found. Falling back to DejaVu Sans\n",
      "  (prop.get_family(), self.defaultFamily[fontext]))\n",
      "/data/anaconda3/envs/cmv-gen/lib/python3.7/site-packages/matplotlib/font_manager.py:1328: UserWarning: findfont: Font family ['sans-serif'] not found. Falling back to DejaVu Sans\n",
      "  (prop.get_family(), self.defaultFamily[fontext]))\n",
      "/data/anaconda3/envs/cmv-gen/lib/python3.7/site-packages/matplotlib/font_manager.py:1328: UserWarning: findfont: Font family ['sans-serif'] not found. Falling back to DejaVu Sans\n",
      "  (prop.get_family(), self.defaultFamily[fontext]))\n",
      "/data/anaconda3/envs/cmv-gen/lib/python3.7/site-packages/matplotlib/font_manager.py:1328: UserWarning: findfont: Font family ['sans-serif'] not found. Falling back to DejaVu Sans\n",
      "  (prop.get_family(), self.defaultFamily[fontext]))\n",
      "/data/anaconda3/envs/cmv-gen/lib/python3.7/site-packages/matplotlib/font_manager.py:1328: UserWarning: findfont: Font family ['sans-serif'] not found. Falling back to DejaVu Sans\n",
      "  (prop.get_family(), self.defaultFamily[fontext]))\n",
      "/data/anaconda3/envs/cmv-gen/lib/python3.7/site-packages/matplotlib/font_manager.py:1328: UserWarning: findfont: Font family ['sans-serif'] not found. Falling back to DejaVu Sans\n",
      "  (prop.get_family(), self.defaultFamily[fontext]))\n",
      "/data/anaconda3/envs/cmv-gen/lib/python3.7/site-packages/matplotlib/font_manager.py:1328: UserWarning: findfont: Font family ['sans-serif'] not found. Falling back to DejaVu Sans\n",
      "  (prop.get_family(), self.defaultFamily[fontext]))\n",
      "/data/anaconda3/envs/cmv-gen/lib/python3.7/site-packages/matplotlib/font_manager.py:1328: UserWarning: findfont: Font family ['sans-serif'] not found. Falling back to DejaVu Sans\n",
      "  (prop.get_family(), self.defaultFamily[fontext]))\n",
      "/data/anaconda3/envs/cmv-gen/lib/python3.7/site-packages/matplotlib/font_manager.py:1328: UserWarning: findfont: Font family ['sans-serif'] not found. Falling back to DejaVu Sans\n",
      "  (prop.get_family(), self.defaultFamily[fontext]))\n",
      "/data/anaconda3/envs/cmv-gen/lib/python3.7/site-packages/matplotlib/font_manager.py:1328: UserWarning: findfont: Font family ['sans-serif'] not found. Falling back to DejaVu Sans\n",
      "  (prop.get_family(), self.defaultFamily[fontext]))\n",
      "/data/anaconda3/envs/cmv-gen/lib/python3.7/site-packages/matplotlib/font_manager.py:1328: UserWarning: findfont: Font family ['sans-serif'] not found. Falling back to DejaVu Sans\n",
      "  (prop.get_family(), self.defaultFamily[fontext]))\n",
      "/data/anaconda3/envs/cmv-gen/lib/python3.7/site-packages/matplotlib/font_manager.py:1328: UserWarning: findfont: Font family ['sans-serif'] not found. Falling back to DejaVu Sans\n",
      "  (prop.get_family(), self.defaultFamily[fontext]))\n",
      "/data/anaconda3/envs/cmv-gen/lib/python3.7/site-packages/matplotlib/font_manager.py:1328: UserWarning: findfont: Font family ['sans-serif'] not found. Falling back to DejaVu Sans\n",
      "  (prop.get_family(), self.defaultFamily[fontext]))\n",
      "/data/anaconda3/envs/cmv-gen/lib/python3.7/site-packages/matplotlib/font_manager.py:1328: UserWarning: findfont: Font family ['sans-serif'] not found. Falling back to DejaVu Sans\n",
      "  (prop.get_family(), self.defaultFamily[fontext]))\n",
      "/data/anaconda3/envs/cmv-gen/lib/python3.7/site-packages/matplotlib/font_manager.py:1328: UserWarning: findfont: Font family ['sans-serif'] not found. Falling back to DejaVu Sans\n",
      "  (prop.get_family(), self.defaultFamily[fontext]))\n",
      "/data/anaconda3/envs/cmv-gen/lib/python3.7/site-packages/matplotlib/font_manager.py:1328: UserWarning: findfont: Font family ['sans-serif'] not found. Falling back to DejaVu Sans\n",
      "  (prop.get_family(), self.defaultFamily[fontext]))\n",
      "/data/anaconda3/envs/cmv-gen/lib/python3.7/site-packages/matplotlib/font_manager.py:1328: UserWarning: findfont: Font family ['sans-serif'] not found. Falling back to DejaVu Sans\n",
      "  (prop.get_family(), self.defaultFamily[fontext]))\n",
      "/data/anaconda3/envs/cmv-gen/lib/python3.7/site-packages/matplotlib/font_manager.py:1328: UserWarning: findfont: Font family ['sans-serif'] not found. Falling back to DejaVu Sans\n",
      "  (prop.get_family(), self.defaultFamily[fontext]))\n",
      "/data/anaconda3/envs/cmv-gen/lib/python3.7/site-packages/matplotlib/font_manager.py:1328: UserWarning: findfont: Font family ['sans-serif'] not found. Falling back to DejaVu Sans\n",
      "  (prop.get_family(), self.defaultFamily[fontext]))\n",
      "/data/anaconda3/envs/cmv-gen/lib/python3.7/site-packages/matplotlib/font_manager.py:1328: UserWarning: findfont: Font family ['sans-serif'] not found. Falling back to DejaVu Sans\n",
      "  (prop.get_family(), self.defaultFamily[fontext]))\n",
      "/data/anaconda3/envs/cmv-gen/lib/python3.7/site-packages/matplotlib/font_manager.py:1328: UserWarning: findfont: Font family ['sans-serif'] not found. Falling back to DejaVu Sans\n",
      "  (prop.get_family(), self.defaultFamily[fontext]))\n",
      "/data/anaconda3/envs/cmv-gen/lib/python3.7/site-packages/matplotlib/font_manager.py:1328: UserWarning: findfont: Font family ['sans-serif'] not found. Falling back to DejaVu Sans\n",
      "  (prop.get_family(), self.defaultFamily[fontext]))\n",
      "/data/anaconda3/envs/cmv-gen/lib/python3.7/site-packages/matplotlib/font_manager.py:1328: UserWarning: findfont: Font family ['sans-serif'] not found. Falling back to DejaVu Sans\n",
      "  (prop.get_family(), self.defaultFamily[fontext]))\n",
      "/data/anaconda3/envs/cmv-gen/lib/python3.7/site-packages/matplotlib/font_manager.py:1328: UserWarning: findfont: Font family ['sans-serif'] not found. Falling back to DejaVu Sans\n",
      "  (prop.get_family(), self.defaultFamily[fontext]))\n",
      "/data/anaconda3/envs/cmv-gen/lib/python3.7/site-packages/matplotlib/font_manager.py:1328: UserWarning: findfont: Font family ['sans-serif'] not found. Falling back to DejaVu Sans\n",
      "  (prop.get_family(), self.defaultFamily[fontext]))\n",
      "/data/anaconda3/envs/cmv-gen/lib/python3.7/site-packages/matplotlib/font_manager.py:1328: UserWarning: findfont: Font family ['sans-serif'] not found. Falling back to DejaVu Sans\n",
      "  (prop.get_family(), self.defaultFamily[fontext]))\n",
      "/data/anaconda3/envs/cmv-gen/lib/python3.7/site-packages/matplotlib/font_manager.py:1328: UserWarning: findfont: Font family ['sans-serif'] not found. Falling back to DejaVu Sans\n",
      "  (prop.get_family(), self.defaultFamily[fontext]))\n",
      "/data/anaconda3/envs/cmv-gen/lib/python3.7/site-packages/matplotlib/font_manager.py:1328: UserWarning: findfont: Font family ['sans-serif'] not found. Falling back to DejaVu Sans\n",
      "  (prop.get_family(), self.defaultFamily[fontext]))\n",
      "/data/anaconda3/envs/cmv-gen/lib/python3.7/site-packages/matplotlib/font_manager.py:1328: UserWarning: findfont: Font family ['sans-serif'] not found. Falling back to DejaVu Sans\n",
      "  (prop.get_family(), self.defaultFamily[fontext]))\n",
      "/data/anaconda3/envs/cmv-gen/lib/python3.7/site-packages/matplotlib/font_manager.py:1328: UserWarning: findfont: Font family ['sans-serif'] not found. Falling back to DejaVu Sans\n",
      "  (prop.get_family(), self.defaultFamily[fontext]))\n",
      "/data/anaconda3/envs/cmv-gen/lib/python3.7/site-packages/matplotlib/font_manager.py:1328: UserWarning: findfont: Font family ['sans-serif'] not found. Falling back to DejaVu Sans\n",
      "  (prop.get_family(), self.defaultFamily[fontext]))\n"
     ]
    },
    {
     "name": "stderr",
     "output_type": "stream",
     "text": [
      "/data/anaconda3/envs/cmv-gen/lib/python3.7/site-packages/matplotlib/font_manager.py:1328: UserWarning: findfont: Font family ['sans-serif'] not found. Falling back to DejaVu Sans\n",
      "  (prop.get_family(), self.defaultFamily[fontext]))\n",
      "/data/anaconda3/envs/cmv-gen/lib/python3.7/site-packages/matplotlib/font_manager.py:1328: UserWarning: findfont: Font family ['sans-serif'] not found. Falling back to DejaVu Sans\n",
      "  (prop.get_family(), self.defaultFamily[fontext]))\n",
      "/data/anaconda3/envs/cmv-gen/lib/python3.7/site-packages/matplotlib/font_manager.py:1328: UserWarning: findfont: Font family ['sans-serif'] not found. Falling back to DejaVu Sans\n",
      "  (prop.get_family(), self.defaultFamily[fontext]))\n",
      "/data/anaconda3/envs/cmv-gen/lib/python3.7/site-packages/matplotlib/font_manager.py:1328: UserWarning: findfont: Font family ['sans-serif'] not found. Falling back to DejaVu Sans\n",
      "  (prop.get_family(), self.defaultFamily[fontext]))\n",
      "/data/anaconda3/envs/cmv-gen/lib/python3.7/site-packages/matplotlib/font_manager.py:1328: UserWarning: findfont: Font family ['sans-serif'] not found. Falling back to DejaVu Sans\n",
      "  (prop.get_family(), self.defaultFamily[fontext]))\n",
      "/data/anaconda3/envs/cmv-gen/lib/python3.7/site-packages/matplotlib/font_manager.py:1328: UserWarning: findfont: Font family ['sans-serif'] not found. Falling back to DejaVu Sans\n",
      "  (prop.get_family(), self.defaultFamily[fontext]))\n",
      "/data/anaconda3/envs/cmv-gen/lib/python3.7/site-packages/matplotlib/font_manager.py:1328: UserWarning: findfont: Font family ['sans-serif'] not found. Falling back to DejaVu Sans\n",
      "  (prop.get_family(), self.defaultFamily[fontext]))\n",
      "/data/anaconda3/envs/cmv-gen/lib/python3.7/site-packages/matplotlib/font_manager.py:1328: UserWarning: findfont: Font family ['sans-serif'] not found. Falling back to DejaVu Sans\n",
      "  (prop.get_family(), self.defaultFamily[fontext]))\n",
      "/data/anaconda3/envs/cmv-gen/lib/python3.7/site-packages/matplotlib/font_manager.py:1328: UserWarning: findfont: Font family ['sans-serif'] not found. Falling back to DejaVu Sans\n",
      "  (prop.get_family(), self.defaultFamily[fontext]))\n",
      "/data/anaconda3/envs/cmv-gen/lib/python3.7/site-packages/matplotlib/font_manager.py:1328: UserWarning: findfont: Font family ['sans-serif'] not found. Falling back to DejaVu Sans\n",
      "  (prop.get_family(), self.defaultFamily[fontext]))\n",
      "/data/anaconda3/envs/cmv-gen/lib/python3.7/site-packages/matplotlib/font_manager.py:1328: UserWarning: findfont: Font family ['sans-serif'] not found. Falling back to DejaVu Sans\n",
      "  (prop.get_family(), self.defaultFamily[fontext]))\n",
      "/data/anaconda3/envs/cmv-gen/lib/python3.7/site-packages/matplotlib/font_manager.py:1328: UserWarning: findfont: Font family ['sans-serif'] not found. Falling back to DejaVu Sans\n",
      "  (prop.get_family(), self.defaultFamily[fontext]))\n",
      "/data/anaconda3/envs/cmv-gen/lib/python3.7/site-packages/matplotlib/font_manager.py:1328: UserWarning: findfont: Font family ['sans-serif'] not found. Falling back to DejaVu Sans\n",
      "  (prop.get_family(), self.defaultFamily[fontext]))\n",
      "/data/anaconda3/envs/cmv-gen/lib/python3.7/site-packages/matplotlib/font_manager.py:1328: UserWarning: findfont: Font family ['sans-serif'] not found. Falling back to DejaVu Sans\n",
      "  (prop.get_family(), self.defaultFamily[fontext]))\n",
      "/data/anaconda3/envs/cmv-gen/lib/python3.7/site-packages/matplotlib/font_manager.py:1328: UserWarning: findfont: Font family ['sans-serif'] not found. Falling back to DejaVu Sans\n",
      "  (prop.get_family(), self.defaultFamily[fontext]))\n",
      "/data/anaconda3/envs/cmv-gen/lib/python3.7/site-packages/matplotlib/font_manager.py:1328: UserWarning: findfont: Font family ['sans-serif'] not found. Falling back to DejaVu Sans\n",
      "  (prop.get_family(), self.defaultFamily[fontext]))\n",
      "/data/anaconda3/envs/cmv-gen/lib/python3.7/site-packages/matplotlib/font_manager.py:1328: UserWarning: findfont: Font family ['sans-serif'] not found. Falling back to DejaVu Sans\n",
      "  (prop.get_family(), self.defaultFamily[fontext]))\n",
      "/data/anaconda3/envs/cmv-gen/lib/python3.7/site-packages/matplotlib/font_manager.py:1328: UserWarning: findfont: Font family ['sans-serif'] not found. Falling back to DejaVu Sans\n",
      "  (prop.get_family(), self.defaultFamily[fontext]))\n",
      "/data/anaconda3/envs/cmv-gen/lib/python3.7/site-packages/matplotlib/font_manager.py:1328: UserWarning: findfont: Font family ['sans-serif'] not found. Falling back to DejaVu Sans\n",
      "  (prop.get_family(), self.defaultFamily[fontext]))\n",
      "/data/anaconda3/envs/cmv-gen/lib/python3.7/site-packages/matplotlib/font_manager.py:1328: UserWarning: findfont: Font family ['sans-serif'] not found. Falling back to DejaVu Sans\n",
      "  (prop.get_family(), self.defaultFamily[fontext]))\n",
      "/data/anaconda3/envs/cmv-gen/lib/python3.7/site-packages/matplotlib/font_manager.py:1328: UserWarning: findfont: Font family ['sans-serif'] not found. Falling back to DejaVu Sans\n",
      "  (prop.get_family(), self.defaultFamily[fontext]))\n",
      "/data/anaconda3/envs/cmv-gen/lib/python3.7/site-packages/matplotlib/font_manager.py:1328: UserWarning: findfont: Font family ['sans-serif'] not found. Falling back to DejaVu Sans\n",
      "  (prop.get_family(), self.defaultFamily[fontext]))\n",
      "/data/anaconda3/envs/cmv-gen/lib/python3.7/site-packages/matplotlib/font_manager.py:1328: UserWarning: findfont: Font family ['sans-serif'] not found. Falling back to DejaVu Sans\n",
      "  (prop.get_family(), self.defaultFamily[fontext]))\n",
      "/data/anaconda3/envs/cmv-gen/lib/python3.7/site-packages/matplotlib/font_manager.py:1328: UserWarning: findfont: Font family ['sans-serif'] not found. Falling back to DejaVu Sans\n",
      "  (prop.get_family(), self.defaultFamily[fontext]))\n",
      "/data/anaconda3/envs/cmv-gen/lib/python3.7/site-packages/matplotlib/font_manager.py:1328: UserWarning: findfont: Font family ['sans-serif'] not found. Falling back to DejaVu Sans\n",
      "  (prop.get_family(), self.defaultFamily[fontext]))\n",
      "/data/anaconda3/envs/cmv-gen/lib/python3.7/site-packages/matplotlib/font_manager.py:1328: UserWarning: findfont: Font family ['sans-serif'] not found. Falling back to DejaVu Sans\n",
      "  (prop.get_family(), self.defaultFamily[fontext]))\n",
      "/data/anaconda3/envs/cmv-gen/lib/python3.7/site-packages/matplotlib/font_manager.py:1328: UserWarning: findfont: Font family ['sans-serif'] not found. Falling back to DejaVu Sans\n",
      "  (prop.get_family(), self.defaultFamily[fontext]))\n",
      "/data/anaconda3/envs/cmv-gen/lib/python3.7/site-packages/matplotlib/font_manager.py:1328: UserWarning: findfont: Font family ['sans-serif'] not found. Falling back to DejaVu Sans\n",
      "  (prop.get_family(), self.defaultFamily[fontext]))\n",
      "/data/anaconda3/envs/cmv-gen/lib/python3.7/site-packages/matplotlib/font_manager.py:1328: UserWarning: findfont: Font family ['sans-serif'] not found. Falling back to DejaVu Sans\n",
      "  (prop.get_family(), self.defaultFamily[fontext]))\n",
      "/data/anaconda3/envs/cmv-gen/lib/python3.7/site-packages/matplotlib/font_manager.py:1328: UserWarning: findfont: Font family ['sans-serif'] not found. Falling back to DejaVu Sans\n",
      "  (prop.get_family(), self.defaultFamily[fontext]))\n",
      "/data/anaconda3/envs/cmv-gen/lib/python3.7/site-packages/matplotlib/font_manager.py:1328: UserWarning: findfont: Font family ['sans-serif'] not found. Falling back to DejaVu Sans\n",
      "  (prop.get_family(), self.defaultFamily[fontext]))\n",
      "/data/anaconda3/envs/cmv-gen/lib/python3.7/site-packages/matplotlib/font_manager.py:1328: UserWarning: findfont: Font family ['sans-serif'] not found. Falling back to DejaVu Sans\n",
      "  (prop.get_family(), self.defaultFamily[fontext]))\n",
      "/data/anaconda3/envs/cmv-gen/lib/python3.7/site-packages/matplotlib/font_manager.py:1328: UserWarning: findfont: Font family ['sans-serif'] not found. Falling back to DejaVu Sans\n",
      "  (prop.get_family(), self.defaultFamily[fontext]))\n",
      "/data/anaconda3/envs/cmv-gen/lib/python3.7/site-packages/matplotlib/font_manager.py:1328: UserWarning: findfont: Font family ['sans-serif'] not found. Falling back to DejaVu Sans\n",
      "  (prop.get_family(), self.defaultFamily[fontext]))\n",
      "/data/anaconda3/envs/cmv-gen/lib/python3.7/site-packages/matplotlib/font_manager.py:1328: UserWarning: findfont: Font family ['sans-serif'] not found. Falling back to DejaVu Sans\n",
      "  (prop.get_family(), self.defaultFamily[fontext]))\n",
      "/data/anaconda3/envs/cmv-gen/lib/python3.7/site-packages/matplotlib/font_manager.py:1328: UserWarning: findfont: Font family ['sans-serif'] not found. Falling back to DejaVu Sans\n",
      "  (prop.get_family(), self.defaultFamily[fontext]))\n",
      "/data/anaconda3/envs/cmv-gen/lib/python3.7/site-packages/matplotlib/font_manager.py:1328: UserWarning: findfont: Font family ['sans-serif'] not found. Falling back to DejaVu Sans\n",
      "  (prop.get_family(), self.defaultFamily[fontext]))\n",
      "/data/anaconda3/envs/cmv-gen/lib/python3.7/site-packages/matplotlib/font_manager.py:1328: UserWarning: findfont: Font family ['sans-serif'] not found. Falling back to DejaVu Sans\n",
      "  (prop.get_family(), self.defaultFamily[fontext]))\n"
     ]
    },
    {
     "name": "stderr",
     "output_type": "stream",
     "text": [
      "/data/anaconda3/envs/cmv-gen/lib/python3.7/site-packages/matplotlib/font_manager.py:1328: UserWarning: findfont: Font family ['sans-serif'] not found. Falling back to DejaVu Sans\n",
      "  (prop.get_family(), self.defaultFamily[fontext]))\n",
      "/data/anaconda3/envs/cmv-gen/lib/python3.7/site-packages/matplotlib/font_manager.py:1328: UserWarning: findfont: Font family ['sans-serif'] not found. Falling back to DejaVu Sans\n",
      "  (prop.get_family(), self.defaultFamily[fontext]))\n",
      "/data/anaconda3/envs/cmv-gen/lib/python3.7/site-packages/matplotlib/font_manager.py:1328: UserWarning: findfont: Font family ['sans-serif'] not found. Falling back to DejaVu Sans\n",
      "  (prop.get_family(), self.defaultFamily[fontext]))\n",
      "/data/anaconda3/envs/cmv-gen/lib/python3.7/site-packages/matplotlib/font_manager.py:1328: UserWarning: findfont: Font family ['sans-serif'] not found. Falling back to DejaVu Sans\n",
      "  (prop.get_family(), self.defaultFamily[fontext]))\n",
      "/data/anaconda3/envs/cmv-gen/lib/python3.7/site-packages/matplotlib/font_manager.py:1328: UserWarning: findfont: Font family ['sans-serif'] not found. Falling back to DejaVu Sans\n",
      "  (prop.get_family(), self.defaultFamily[fontext]))\n",
      "/data/anaconda3/envs/cmv-gen/lib/python3.7/site-packages/matplotlib/font_manager.py:1328: UserWarning: findfont: Font family ['sans-serif'] not found. Falling back to DejaVu Sans\n",
      "  (prop.get_family(), self.defaultFamily[fontext]))\n",
      "/data/anaconda3/envs/cmv-gen/lib/python3.7/site-packages/matplotlib/font_manager.py:1328: UserWarning: findfont: Font family ['sans-serif'] not found. Falling back to DejaVu Sans\n",
      "  (prop.get_family(), self.defaultFamily[fontext]))\n",
      "/data/anaconda3/envs/cmv-gen/lib/python3.7/site-packages/matplotlib/font_manager.py:1328: UserWarning: findfont: Font family ['sans-serif'] not found. Falling back to DejaVu Sans\n",
      "  (prop.get_family(), self.defaultFamily[fontext]))\n",
      "/data/anaconda3/envs/cmv-gen/lib/python3.7/site-packages/matplotlib/font_manager.py:1328: UserWarning: findfont: Font family ['sans-serif'] not found. Falling back to DejaVu Sans\n",
      "  (prop.get_family(), self.defaultFamily[fontext]))\n",
      "/data/anaconda3/envs/cmv-gen/lib/python3.7/site-packages/matplotlib/font_manager.py:1328: UserWarning: findfont: Font family ['sans-serif'] not found. Falling back to DejaVu Sans\n",
      "  (prop.get_family(), self.defaultFamily[fontext]))\n",
      "/data/anaconda3/envs/cmv-gen/lib/python3.7/site-packages/matplotlib/font_manager.py:1328: UserWarning: findfont: Font family ['sans-serif'] not found. Falling back to DejaVu Sans\n",
      "  (prop.get_family(), self.defaultFamily[fontext]))\n",
      "/data/anaconda3/envs/cmv-gen/lib/python3.7/site-packages/matplotlib/font_manager.py:1328: UserWarning: findfont: Font family ['sans-serif'] not found. Falling back to DejaVu Sans\n",
      "  (prop.get_family(), self.defaultFamily[fontext]))\n",
      "/data/anaconda3/envs/cmv-gen/lib/python3.7/site-packages/matplotlib/font_manager.py:1328: UserWarning: findfont: Font family ['sans-serif'] not found. Falling back to DejaVu Sans\n",
      "  (prop.get_family(), self.defaultFamily[fontext]))\n"
     ]
    },
    {
     "data": {
      "image/png": "[encoded data removed]",
      "text/plain": [
       "<Figure size 576x504 with 1 Axes>"
      ]
     },
     "metadata": {},
     "output_type": "display_data"
    }
   ],
   "source": [
    "figure = pf.plot_bar(value_list, errorbar_list=error_list, legend=[\"explanation\", \"PC\"],\n",
    "                     loc=(0.32, 0.72),\n",
    "                     ylabel=\"fraction of echoed words\",\n",
    "                     yticklabel=[[0.2 * i for i in range(5)], [\"%d\\%%\" % (20 * i) for i in range(5)]],\n",
    "                     xticklabel=[\"all\", \"out of quotes\", \"content words\"],\n",
    "                     fig_pos=[0.23, 0.26, 0.72, 0.71],\n",
    "                     xlabel_rotation=30)\n",
    "\n",
    "figure.savefig(\"../records/plots/copy_probability.png\", bbox_inches=\"tight\")"
   ]
  },
  {
   "cell_type": "code",
   "execution_count": null,
   "metadata": {},
   "outputs": [],
   "source": []
  }
 ],
 "metadata": {
  "kernelspec": {
   "display_name": "Python 3",
   "language": "python",
   "name": "python3"
  },
  "language_info": {
   "codemirror_mode": {
    "name": "ipython",
    "version": 3
   },
   "file_extension": ".py",
   "mimetype": "text/x-python",
   "name": "python",
   "nbconvert_exporter": "python",
   "pygments_lexer": "ipython3",
   "version": "3.7.1"
  }
 },
 "nbformat": 4,
 "nbformat_minor": 2
}
